{
 "cells": [
  {
   "cell_type": "markdown",
   "metadata": {},
   "source": [
    "# SSL Strip Attack\n",
    "\n",
    "## Introduction\n",
    "This demonstration illustrates a SSL strip attack, where a malicious hacker on the same network becomes a proxy between the victims and the webpages from the server they are visiting. The ``SSL strip`` technique is able to strip off the SSL configuration and convert a HTTPS based communicaton to a HTTP based one. \n",
    "\n",
    "## Steps\n",
    "\n",
    "### Before the Attack\n",
    "1. Follow the instructions in ``Hacker.ipynb`` to conduct an ARP Poisoning attack",
    "\n",
    "### During the Attack\n",
    "1. On the ``victim``, open the webpage by typing the ip address of the ``server`` in the address bar and log in with username ``admin`` and password ``admin``. *(tip: as https and self-signed certificates are used, the users are required to confirm the security expcetion prompted by the browsers)*\n",
    "2. Open a terminal of the ``hacker``, and redirect all HTTPs traffic to a port that SSLStrip will monitor by typing ``sudo iptables -t nat -A PREROUTING -p tcp --destination-port 80 -j REDIRECT --to-port 8080``\n",
    "3. Still on the ``hacker``, start SSLStrip in the background by typing: ``sslstrip -l 8080 &> /dev/null &``\n",
    "4. On the ``victim``, open another tab of the browser to log in to the ``server`` again.\n",
    "5. Go back to the ``hacker`` and check the conctent of the SSLStrip logs by typing``cat sslstrip.log``. We should see the username and password entered by the ``victim``."
   ]
  },
  {
   "cell_type": "code",
   "execution_count": null,
   "metadata": {},
   "outputs": [],
   "source": []
  }
 ],
 "metadata": {
  "kernelspec": {
   "display_name": "Python 3",
   "language": "python",
   "name": "python3"
  },
  "language_info": {
   "codemirror_mode": {
    "name": "ipython",
    "version": 3
   },
   "file_extension": ".py",
   "mimetype": "text/x-python",
   "name": "python",
   "nbconvert_exporter": "python",
   "pygments_lexer": "ipython3",
   "version": "3.6.6"
  }
 },
 "nbformat": 4,
 "nbformat_minor": 2
}
